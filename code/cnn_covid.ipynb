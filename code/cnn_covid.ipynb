{
 "cells": [
  {
   "cell_type": "code",
   "execution_count": 3,
   "id": "85ff78e3",
   "metadata": {},
   "outputs": [],
   "source": [
    "import numpy as np\n",
    "import math\n",
    "import cv2\n",
    "\n",
    "from tensorflow.keras.applications import VGG16\n",
    "from tensorflow.keras.preprocessing import image, image_dataset_from_directory\n",
    "from tensorflow.keras.models import Sequential \n",
    "from tensorflow.keras.layers import Dense, Conv2D, MaxPooling2D, Flatten, InputLayer, GlobalAveragePooling2D, Dropout\n",
    "\n",
    "from sklearn.tree import DecisionTreeClassifier\n",
    "from sklearn.ensemble import RandomForestClassifier\n",
    "from sklearn.metrics import accuracy_score\n",
    "from sklearn.decomposition import PCA\n",
    "\n",
    "import matplotlib.pyplot as plt"
   ]
  },
  {
   "cell_type": "markdown",
   "id": "6b048e87",
   "metadata": {},
   "source": [
    "## Organization of Files Using OS"
   ]
  },
  {
   "cell_type": "code",
   "execution_count": 4,
   "id": "6a13105d",
   "metadata": {},
   "outputs": [],
   "source": [
    "import os\n",
    "import shutil\n",
    "\n",
    "file_count_pos = len([name for name in os.listdir('C:/Users/matth/Desktop/images/CT_COVID/')])\n",
    "file_count_neg = len([name for name in os.listdir('C:/Users/matth/Desktop/images/CT_NonCOVID/')])\n",
    "\n",
    "train_size, val_size, test_size = .7, .15, .15\n",
    "\n",
    "def split_img_data(label, train_size):\n",
    "    val_size = test_size = (1 - train_size)/2\n",
    "    \n",
    "    file_count = len([name for name in os.listdir(f'C:/Users/matth/Desktop/images/{label}/')])\n",
    "    dir_list = os.listdir(f'C:/Users/matth/Desktop/images/{label}/')\n",
    "    \n",
    "    train_idx = range(math.ceil(train_size * file_count))\n",
    "    val_idx = range(math.ceil(train_size * file_count),math.ceil(train_size * file_count) + math.ceil(train_size+val_size * file_count))\n",
    "    test_idx = range(math.ceil(train_size * file_count) + math.ceil(train_size+val_size * file_count), file_count)\n",
    "    \n",
    "    for i in train_idx:\n",
    "        file_name = dir_list[i]\n",
    "        os.rename(f'C:/Users/matth/Desktop/images/{label}/{file_name}',f'C:/Users/matth/Desktop/images/train/{label}/{file_name}')\n",
    "        \n",
    "    for i in val_idx:\n",
    "        file_name = dir_list[i]\n",
    "        os.rename(f'C:/Users/matth/Desktop/images/{label}/{file_name}',f'C:/Users/matth/Desktop/images/val/{label}/{file_name}')\n",
    "        \n",
    "    for i in test_idx:\n",
    "        file_name = dir_list[i]\n",
    "        os.rename(f'C:/Users/matth/Desktop/images/{label}/{file_name}',f'C:/Users/matth/Desktop/images/test/{label}/{file_name}')\n",
    "    \n",
    "    os.rmdir(f'C:/Users/matth/Desktop/images/{label}/')"
   ]
  },
  {
   "cell_type": "code",
   "execution_count": null,
   "id": "63fc1da1",
   "metadata": {},
   "outputs": [],
   "source": [
    "#split_img_data(label, .7) for label in ['ct_covid','ct_noncovid'] "
   ]
  },
  {
   "cell_type": "markdown",
   "id": "e4fd2684",
   "metadata": {},
   "source": [
    "## Fetching Data"
   ]
  },
  {
   "cell_type": "code",
   "execution_count": 5,
   "id": "e46b5f0b",
   "metadata": {},
   "outputs": [],
   "source": [
    "def retrieve_data(subset):\n",
    "    img_array =[]\n",
    "    class_name = []\n",
    "    \n",
    "    for label in os.listdir(f'C:/Users/matth/Desktop/Deep Learning/images/{subset}'):\n",
    "        for file in os.listdir(f'C:/Users/matth/Desktop/Deep Learning/images/{subset}/{label}'):\n",
    "            image = cv2.imread(f'C:/Users/matth/Desktop/Deep Learning/images/{subset}/{label}/{file}', 0)\n",
    "            image = cv2.resize(image, (256,256))\n",
    "            image = np.array(image).astype('float32')\n",
    "            img_array.append(image)\n",
    "            class_name.append(label)\n",
    "            \n",
    "    return img_array, class_name"
   ]
  },
  {
   "cell_type": "code",
   "execution_count": 6,
   "id": "41e1e3ed",
   "metadata": {},
   "outputs": [],
   "source": [
    "X_train, y_train = retrieve_data('train')\n",
    "X_val, y_val = retrieve_data('val')\n",
    "X_test, y_test = retrieve_data('test')"
   ]
  },
  {
   "cell_type": "code",
   "execution_count": 7,
   "id": "aff69307",
   "metadata": {},
   "outputs": [
    {
     "name": "stdout",
     "output_type": "stream",
     "text": [
      "Found 523 files belonging to 2 classes.\n",
      "Found 115 files belonging to 2 classes.\n",
      "Found 108 files belonging to 2 classes.\n"
     ]
    }
   ],
   "source": [
    "train_data = image_dataset_from_directory(directory = 'C:/Users/matth/Desktop/Deep Learning/images/train', labels='inferred')\n",
    "val_data = image_dataset_from_directory(directory = 'C:/Users/matth/Desktop/Deep Learning/images/val', labels='inferred')\n",
    "test_data = image_dataset_from_directory(directory = 'C:/Users/matth/Desktop/Deep Learning/images/test', labels='inferred')"
   ]
  },
  {
   "cell_type": "markdown",
   "id": "874c0156",
   "metadata": {},
   "source": [
    "## Baseline Random Forest Model"
   ]
  },
  {
   "cell_type": "markdown",
   "id": "599d869d",
   "metadata": {},
   "source": [
    "### PCA"
   ]
  },
  {
   "cell_type": "code",
   "execution_count": 8,
   "id": "db69ed15",
   "metadata": {},
   "outputs": [],
   "source": [
    "def reshape_set(data):\n",
    "    X_reshape = []\n",
    "    \n",
    "    for i in range(len(data)):\n",
    "        X_reshape.append(data[i].reshape(len(data[i])** 2))\n",
    "        \n",
    "    return X_reshape"
   ]
  },
  {
   "cell_type": "code",
   "execution_count": 10,
   "id": "f799827a",
   "metadata": {},
   "outputs": [],
   "source": [
    "pca = PCA()\n",
    "\n",
    "pca.fit(reshape_set(X_train))\n",
    "X_train_pca = pca.transform(reshape_set(X_train))\n",
    "X_test_pca = pca.transform(reshape_set(X_test))"
   ]
  },
  {
   "cell_type": "markdown",
   "id": "dd8cd1e4",
   "metadata": {},
   "source": [
    "placeholder"
   ]
  },
  {
   "cell_type": "code",
   "execution_count": 11,
   "id": "f7fbe66b",
   "metadata": {},
   "outputs": [
    {
     "data": {
      "text/plain": [
       "RandomForestClassifier()"
      ]
     },
     "execution_count": 11,
     "metadata": {},
     "output_type": "execute_result"
    }
   ],
   "source": [
    "randomforest = RandomForestClassifier(n_estimators=100)\n",
    "\n",
    "randomforest.fit(X_train_pca, y_train)"
   ]
  },
  {
   "cell_type": "code",
   "execution_count": 12,
   "id": "81ec7a0e",
   "metadata": {},
   "outputs": [
    {
     "data": {
      "text/plain": [
       "0.5185185185185185"
      ]
     },
     "execution_count": 12,
     "metadata": {},
     "output_type": "execute_result"
    }
   ],
   "source": [
    "randomforest.score(X_test_pca, y_test)"
   ]
  },
  {
   "cell_type": "markdown",
   "id": "30c77745",
   "metadata": {
    "scrolled": true
   },
   "source": [
    "## CNN"
   ]
  },
  {
   "cell_type": "code",
   "execution_count": 44,
   "id": "c152e7f3",
   "metadata": {},
   "outputs": [],
   "source": [
    "NN = Sequential()\n",
    "\n",
    "NN.add(InputLayer(input_shape = (256, 256, 3)))\n",
    "\n",
    "NN.add(Conv2D(filters = 8, kernel_size = 5, activation ='relu',padding = 'same'))\n",
    "NN.add(Dropout(0.4))\n",
    "NN.add(Conv2D(filters = 8, kernel_size = 5, activation ='relu',padding = 'same'))\n",
    "NN.add(Dropout(0.4))\n",
    "NN.add(MaxPooling2D())\n",
    "\n",
    "NN.add(Conv2D(filters= 16, kernel_size=5, activation='relu', padding='same'))\n",
    "# NN.add(Dropout(0.4))\n",
    "# NN.add(Conv2D(filters= 16, kernel_size=5, activation='relu', padding='same'))\n",
    "# NN.add(Dropout(0.4))\n",
    "NN.add(MaxPooling2D())\n",
    "\n",
    "NN.add(Conv2D(filters=32, kernel_size=5, activation='relu', padding='same'))\n",
    "NN.add(Dropout(0.4))\n",
    "NN.add(Conv2D(filters=32, kernel_size=5, activation='relu', padding='same'))\n",
    "NN.add(Dropout(0.4))\n",
    "NN.add(GlobalAveragePooling2D())\n",
    "\n",
    "NN.add(Flatten())\n",
    "NN.add(Dense(20, activation='relu'))\n",
    "NN.add(Dense(1, activation='sigmoid'))  # 10 target classes\n",
    "\n",
    "\n",
    "NN.compile(\n",
    "    loss='binary_crossentropy',\n",
    "    optimizer='adam',\n",
    "    metrics=['accuracy']\n",
    ")"
   ]
  },
  {
   "cell_type": "code",
   "execution_count": 45,
   "id": "2bdf26d8",
   "metadata": {},
   "outputs": [
    {
     "name": "stdout",
     "output_type": "stream",
     "text": [
      "Model: \"sequential_4\"\n",
      "_________________________________________________________________\n",
      " Layer (type)                Output Shape              Param #   \n",
      "=================================================================\n",
      " conv2d_21 (Conv2D)          (None, 256, 256, 8)       608       \n",
      "                                                                 \n",
      " dropout_18 (Dropout)        (None, 256, 256, 8)       0         \n",
      "                                                                 \n",
      " conv2d_22 (Conv2D)          (None, 256, 256, 8)       1608      \n",
      "                                                                 \n",
      " dropout_19 (Dropout)        (None, 256, 256, 8)       0         \n",
      "                                                                 \n",
      " max_pooling2d_8 (MaxPooling  (None, 128, 128, 8)      0         \n",
      " 2D)                                                             \n",
      "                                                                 \n",
      " conv2d_23 (Conv2D)          (None, 128, 128, 16)      3216      \n",
      "                                                                 \n",
      " max_pooling2d_9 (MaxPooling  (None, 64, 64, 16)       0         \n",
      " 2D)                                                             \n",
      "                                                                 \n",
      " conv2d_24 (Conv2D)          (None, 64, 64, 32)        12832     \n",
      "                                                                 \n",
      " dropout_20 (Dropout)        (None, 64, 64, 32)        0         \n",
      "                                                                 \n",
      " conv2d_25 (Conv2D)          (None, 64, 64, 32)        25632     \n",
      "                                                                 \n",
      " dropout_21 (Dropout)        (None, 64, 64, 32)        0         \n",
      "                                                                 \n",
      " global_average_pooling2d_4   (None, 32)               0         \n",
      " (GlobalAveragePooling2D)                                        \n",
      "                                                                 \n",
      " flatten_4 (Flatten)         (None, 32)                0         \n",
      "                                                                 \n",
      " dense_8 (Dense)             (None, 20)                660       \n",
      "                                                                 \n",
      " dense_9 (Dense)             (None, 1)                 21        \n",
      "                                                                 \n",
      "=================================================================\n",
      "Total params: 44,577\n",
      "Trainable params: 44,577\n",
      "Non-trainable params: 0\n",
      "_________________________________________________________________\n"
     ]
    }
   ],
   "source": [
    "NN.summary()"
   ]
  },
  {
   "cell_type": "code",
   "execution_count": 46,
   "id": "c131d0d3",
   "metadata": {
    "scrolled": false
   },
   "outputs": [
    {
     "name": "stdout",
     "output_type": "stream",
     "text": [
      "Epoch 1/5\n",
      "17/17 [==============================] - 28s 2s/step - loss: 1.9021 - accuracy: 0.5239 - val_loss: 0.6990 - val_accuracy: 0.4696\n",
      "Epoch 2/5\n",
      " 1/17 [>.............................] - ETA: 29s - loss: 0.6715 - accuracy: 0.6250"
     ]
    },
    {
     "ename": "KeyboardInterrupt",
     "evalue": "",
     "output_type": "error",
     "traceback": [
      "\u001b[1;31m---------------------------------------------------------------------------\u001b[0m",
      "\u001b[1;31mKeyboardInterrupt\u001b[0m                         Traceback (most recent call last)",
      "\u001b[1;32m<ipython-input-46-d050002266ad>\u001b[0m in \u001b[0;36m<module>\u001b[1;34m\u001b[0m\n\u001b[1;32m----> 1\u001b[1;33m \u001b[0mNN\u001b[0m\u001b[1;33m.\u001b[0m\u001b[0mfit\u001b[0m\u001b[1;33m(\u001b[0m\u001b[0mtrain_data\u001b[0m\u001b[1;33m,\u001b[0m \u001b[0mepochs\u001b[0m \u001b[1;33m=\u001b[0m \u001b[1;36m5\u001b[0m\u001b[1;33m,\u001b[0m \u001b[0mverbose\u001b[0m \u001b[1;33m=\u001b[0m \u001b[1;36m1\u001b[0m\u001b[1;33m,\u001b[0m \u001b[0mvalidation_data\u001b[0m \u001b[1;33m=\u001b[0m \u001b[0mval_data\u001b[0m\u001b[1;33m)\u001b[0m\u001b[1;33m\u001b[0m\u001b[1;33m\u001b[0m\u001b[0m\n\u001b[0m",
      "\u001b[1;32m~\\anaconda3\\lib\\site-packages\\keras\\utils\\traceback_utils.py\u001b[0m in \u001b[0;36merror_handler\u001b[1;34m(*args, **kwargs)\u001b[0m\n\u001b[0;32m     62\u001b[0m     \u001b[0mfiltered_tb\u001b[0m \u001b[1;33m=\u001b[0m \u001b[1;32mNone\u001b[0m\u001b[1;33m\u001b[0m\u001b[1;33m\u001b[0m\u001b[0m\n\u001b[0;32m     63\u001b[0m     \u001b[1;32mtry\u001b[0m\u001b[1;33m:\u001b[0m\u001b[1;33m\u001b[0m\u001b[1;33m\u001b[0m\u001b[0m\n\u001b[1;32m---> 64\u001b[1;33m       \u001b[1;32mreturn\u001b[0m \u001b[0mfn\u001b[0m\u001b[1;33m(\u001b[0m\u001b[1;33m*\u001b[0m\u001b[0margs\u001b[0m\u001b[1;33m,\u001b[0m \u001b[1;33m**\u001b[0m\u001b[0mkwargs\u001b[0m\u001b[1;33m)\u001b[0m\u001b[1;33m\u001b[0m\u001b[1;33m\u001b[0m\u001b[0m\n\u001b[0m\u001b[0;32m     65\u001b[0m     \u001b[1;32mexcept\u001b[0m \u001b[0mException\u001b[0m \u001b[1;32mas\u001b[0m \u001b[0me\u001b[0m\u001b[1;33m:\u001b[0m  \u001b[1;31m# pylint: disable=broad-except\u001b[0m\u001b[1;33m\u001b[0m\u001b[1;33m\u001b[0m\u001b[0m\n\u001b[0;32m     66\u001b[0m       \u001b[0mfiltered_tb\u001b[0m \u001b[1;33m=\u001b[0m \u001b[0m_process_traceback_frames\u001b[0m\u001b[1;33m(\u001b[0m\u001b[0me\u001b[0m\u001b[1;33m.\u001b[0m\u001b[0m__traceback__\u001b[0m\u001b[1;33m)\u001b[0m\u001b[1;33m\u001b[0m\u001b[1;33m\u001b[0m\u001b[0m\n",
      "\u001b[1;32m~\\anaconda3\\lib\\site-packages\\keras\\engine\\training.py\u001b[0m in \u001b[0;36mfit\u001b[1;34m(self, x, y, batch_size, epochs, verbose, callbacks, validation_split, validation_data, shuffle, class_weight, sample_weight, initial_epoch, steps_per_epoch, validation_steps, validation_batch_size, validation_freq, max_queue_size, workers, use_multiprocessing)\u001b[0m\n\u001b[0;32m   1214\u001b[0m                 _r=1):\n\u001b[0;32m   1215\u001b[0m               \u001b[0mcallbacks\u001b[0m\u001b[1;33m.\u001b[0m\u001b[0mon_train_batch_begin\u001b[0m\u001b[1;33m(\u001b[0m\u001b[0mstep\u001b[0m\u001b[1;33m)\u001b[0m\u001b[1;33m\u001b[0m\u001b[1;33m\u001b[0m\u001b[0m\n\u001b[1;32m-> 1216\u001b[1;33m               \u001b[0mtmp_logs\u001b[0m \u001b[1;33m=\u001b[0m \u001b[0mself\u001b[0m\u001b[1;33m.\u001b[0m\u001b[0mtrain_function\u001b[0m\u001b[1;33m(\u001b[0m\u001b[0miterator\u001b[0m\u001b[1;33m)\u001b[0m\u001b[1;33m\u001b[0m\u001b[1;33m\u001b[0m\u001b[0m\n\u001b[0m\u001b[0;32m   1217\u001b[0m               \u001b[1;32mif\u001b[0m \u001b[0mdata_handler\u001b[0m\u001b[1;33m.\u001b[0m\u001b[0mshould_sync\u001b[0m\u001b[1;33m:\u001b[0m\u001b[1;33m\u001b[0m\u001b[1;33m\u001b[0m\u001b[0m\n\u001b[0;32m   1218\u001b[0m                 \u001b[0mcontext\u001b[0m\u001b[1;33m.\u001b[0m\u001b[0masync_wait\u001b[0m\u001b[1;33m(\u001b[0m\u001b[1;33m)\u001b[0m\u001b[1;33m\u001b[0m\u001b[1;33m\u001b[0m\u001b[0m\n",
      "\u001b[1;32m~\\anaconda3\\lib\\site-packages\\tensorflow\\python\\util\\traceback_utils.py\u001b[0m in \u001b[0;36merror_handler\u001b[1;34m(*args, **kwargs)\u001b[0m\n\u001b[0;32m    148\u001b[0m     \u001b[0mfiltered_tb\u001b[0m \u001b[1;33m=\u001b[0m \u001b[1;32mNone\u001b[0m\u001b[1;33m\u001b[0m\u001b[1;33m\u001b[0m\u001b[0m\n\u001b[0;32m    149\u001b[0m     \u001b[1;32mtry\u001b[0m\u001b[1;33m:\u001b[0m\u001b[1;33m\u001b[0m\u001b[1;33m\u001b[0m\u001b[0m\n\u001b[1;32m--> 150\u001b[1;33m       \u001b[1;32mreturn\u001b[0m \u001b[0mfn\u001b[0m\u001b[1;33m(\u001b[0m\u001b[1;33m*\u001b[0m\u001b[0margs\u001b[0m\u001b[1;33m,\u001b[0m \u001b[1;33m**\u001b[0m\u001b[0mkwargs\u001b[0m\u001b[1;33m)\u001b[0m\u001b[1;33m\u001b[0m\u001b[1;33m\u001b[0m\u001b[0m\n\u001b[0m\u001b[0;32m    151\u001b[0m     \u001b[1;32mexcept\u001b[0m \u001b[0mException\u001b[0m \u001b[1;32mas\u001b[0m \u001b[0me\u001b[0m\u001b[1;33m:\u001b[0m\u001b[1;33m\u001b[0m\u001b[1;33m\u001b[0m\u001b[0m\n\u001b[0;32m    152\u001b[0m       \u001b[0mfiltered_tb\u001b[0m \u001b[1;33m=\u001b[0m \u001b[0m_process_traceback_frames\u001b[0m\u001b[1;33m(\u001b[0m\u001b[0me\u001b[0m\u001b[1;33m.\u001b[0m\u001b[0m__traceback__\u001b[0m\u001b[1;33m)\u001b[0m\u001b[1;33m\u001b[0m\u001b[1;33m\u001b[0m\u001b[0m\n",
      "\u001b[1;32m~\\anaconda3\\lib\\site-packages\\tensorflow\\python\\eager\\def_function.py\u001b[0m in \u001b[0;36m__call__\u001b[1;34m(self, *args, **kwds)\u001b[0m\n\u001b[0;32m    908\u001b[0m \u001b[1;33m\u001b[0m\u001b[0m\n\u001b[0;32m    909\u001b[0m       \u001b[1;32mwith\u001b[0m \u001b[0mOptionalXlaContext\u001b[0m\u001b[1;33m(\u001b[0m\u001b[0mself\u001b[0m\u001b[1;33m.\u001b[0m\u001b[0m_jit_compile\u001b[0m\u001b[1;33m)\u001b[0m\u001b[1;33m:\u001b[0m\u001b[1;33m\u001b[0m\u001b[1;33m\u001b[0m\u001b[0m\n\u001b[1;32m--> 910\u001b[1;33m         \u001b[0mresult\u001b[0m \u001b[1;33m=\u001b[0m \u001b[0mself\u001b[0m\u001b[1;33m.\u001b[0m\u001b[0m_call\u001b[0m\u001b[1;33m(\u001b[0m\u001b[1;33m*\u001b[0m\u001b[0margs\u001b[0m\u001b[1;33m,\u001b[0m \u001b[1;33m**\u001b[0m\u001b[0mkwds\u001b[0m\u001b[1;33m)\u001b[0m\u001b[1;33m\u001b[0m\u001b[1;33m\u001b[0m\u001b[0m\n\u001b[0m\u001b[0;32m    911\u001b[0m \u001b[1;33m\u001b[0m\u001b[0m\n\u001b[0;32m    912\u001b[0m       \u001b[0mnew_tracing_count\u001b[0m \u001b[1;33m=\u001b[0m \u001b[0mself\u001b[0m\u001b[1;33m.\u001b[0m\u001b[0mexperimental_get_tracing_count\u001b[0m\u001b[1;33m(\u001b[0m\u001b[1;33m)\u001b[0m\u001b[1;33m\u001b[0m\u001b[1;33m\u001b[0m\u001b[0m\n",
      "\u001b[1;32m~\\anaconda3\\lib\\site-packages\\tensorflow\\python\\eager\\def_function.py\u001b[0m in \u001b[0;36m_call\u001b[1;34m(self, *args, **kwds)\u001b[0m\n\u001b[0;32m    940\u001b[0m       \u001b[1;31m# In this case we have created variables on the first call, so we run the\u001b[0m\u001b[1;33m\u001b[0m\u001b[1;33m\u001b[0m\u001b[1;33m\u001b[0m\u001b[0m\n\u001b[0;32m    941\u001b[0m       \u001b[1;31m# defunned version which is guaranteed to never create variables.\u001b[0m\u001b[1;33m\u001b[0m\u001b[1;33m\u001b[0m\u001b[1;33m\u001b[0m\u001b[0m\n\u001b[1;32m--> 942\u001b[1;33m       \u001b[1;32mreturn\u001b[0m \u001b[0mself\u001b[0m\u001b[1;33m.\u001b[0m\u001b[0m_stateless_fn\u001b[0m\u001b[1;33m(\u001b[0m\u001b[1;33m*\u001b[0m\u001b[0margs\u001b[0m\u001b[1;33m,\u001b[0m \u001b[1;33m**\u001b[0m\u001b[0mkwds\u001b[0m\u001b[1;33m)\u001b[0m  \u001b[1;31m# pylint: disable=not-callable\u001b[0m\u001b[1;33m\u001b[0m\u001b[1;33m\u001b[0m\u001b[0m\n\u001b[0m\u001b[0;32m    943\u001b[0m     \u001b[1;32melif\u001b[0m \u001b[0mself\u001b[0m\u001b[1;33m.\u001b[0m\u001b[0m_stateful_fn\u001b[0m \u001b[1;32mis\u001b[0m \u001b[1;32mnot\u001b[0m \u001b[1;32mNone\u001b[0m\u001b[1;33m:\u001b[0m\u001b[1;33m\u001b[0m\u001b[1;33m\u001b[0m\u001b[0m\n\u001b[0;32m    944\u001b[0m       \u001b[1;31m# Release the lock early so that multiple threads can perform the call\u001b[0m\u001b[1;33m\u001b[0m\u001b[1;33m\u001b[0m\u001b[1;33m\u001b[0m\u001b[0m\n",
      "\u001b[1;32m~\\anaconda3\\lib\\site-packages\\tensorflow\\python\\eager\\function.py\u001b[0m in \u001b[0;36m__call__\u001b[1;34m(self, *args, **kwargs)\u001b[0m\n\u001b[0;32m   3128\u001b[0m       (graph_function,\n\u001b[0;32m   3129\u001b[0m        filtered_flat_args) = self._maybe_define_function(args, kwargs)\n\u001b[1;32m-> 3130\u001b[1;33m     return graph_function._call_flat(\n\u001b[0m\u001b[0;32m   3131\u001b[0m         filtered_flat_args, captured_inputs=graph_function.captured_inputs)  # pylint: disable=protected-access\n\u001b[0;32m   3132\u001b[0m \u001b[1;33m\u001b[0m\u001b[0m\n",
      "\u001b[1;32m~\\anaconda3\\lib\\site-packages\\tensorflow\\python\\eager\\function.py\u001b[0m in \u001b[0;36m_call_flat\u001b[1;34m(self, args, captured_inputs, cancellation_manager)\u001b[0m\n\u001b[0;32m   1957\u001b[0m         and executing_eagerly):\n\u001b[0;32m   1958\u001b[0m       \u001b[1;31m# No tape is watching; skip to running the function.\u001b[0m\u001b[1;33m\u001b[0m\u001b[1;33m\u001b[0m\u001b[1;33m\u001b[0m\u001b[0m\n\u001b[1;32m-> 1959\u001b[1;33m       return self._build_call_outputs(self._inference_function.call(\n\u001b[0m\u001b[0;32m   1960\u001b[0m           ctx, args, cancellation_manager=cancellation_manager))\n\u001b[0;32m   1961\u001b[0m     forward_backward = self._select_forward_and_backward_functions(\n",
      "\u001b[1;32m~\\anaconda3\\lib\\site-packages\\tensorflow\\python\\eager\\function.py\u001b[0m in \u001b[0;36mcall\u001b[1;34m(self, ctx, args, cancellation_manager)\u001b[0m\n\u001b[0;32m    596\u001b[0m       \u001b[1;32mwith\u001b[0m \u001b[0m_InterpolateFunctionError\u001b[0m\u001b[1;33m(\u001b[0m\u001b[0mself\u001b[0m\u001b[1;33m)\u001b[0m\u001b[1;33m:\u001b[0m\u001b[1;33m\u001b[0m\u001b[1;33m\u001b[0m\u001b[0m\n\u001b[0;32m    597\u001b[0m         \u001b[1;32mif\u001b[0m \u001b[0mcancellation_manager\u001b[0m \u001b[1;32mis\u001b[0m \u001b[1;32mNone\u001b[0m\u001b[1;33m:\u001b[0m\u001b[1;33m\u001b[0m\u001b[1;33m\u001b[0m\u001b[0m\n\u001b[1;32m--> 598\u001b[1;33m           outputs = execute.execute(\n\u001b[0m\u001b[0;32m    599\u001b[0m               \u001b[0mstr\u001b[0m\u001b[1;33m(\u001b[0m\u001b[0mself\u001b[0m\u001b[1;33m.\u001b[0m\u001b[0msignature\u001b[0m\u001b[1;33m.\u001b[0m\u001b[0mname\u001b[0m\u001b[1;33m)\u001b[0m\u001b[1;33m,\u001b[0m\u001b[1;33m\u001b[0m\u001b[1;33m\u001b[0m\u001b[0m\n\u001b[0;32m    600\u001b[0m               \u001b[0mnum_outputs\u001b[0m\u001b[1;33m=\u001b[0m\u001b[0mself\u001b[0m\u001b[1;33m.\u001b[0m\u001b[0m_num_outputs\u001b[0m\u001b[1;33m,\u001b[0m\u001b[1;33m\u001b[0m\u001b[1;33m\u001b[0m\u001b[0m\n",
      "\u001b[1;32m~\\anaconda3\\lib\\site-packages\\tensorflow\\python\\eager\\execute.py\u001b[0m in \u001b[0;36mquick_execute\u001b[1;34m(op_name, num_outputs, inputs, attrs, ctx, name)\u001b[0m\n\u001b[0;32m     56\u001b[0m   \u001b[1;32mtry\u001b[0m\u001b[1;33m:\u001b[0m\u001b[1;33m\u001b[0m\u001b[1;33m\u001b[0m\u001b[0m\n\u001b[0;32m     57\u001b[0m     \u001b[0mctx\u001b[0m\u001b[1;33m.\u001b[0m\u001b[0mensure_initialized\u001b[0m\u001b[1;33m(\u001b[0m\u001b[1;33m)\u001b[0m\u001b[1;33m\u001b[0m\u001b[1;33m\u001b[0m\u001b[0m\n\u001b[1;32m---> 58\u001b[1;33m     tensors = pywrap_tfe.TFE_Py_Execute(ctx._handle, device_name, op_name,\n\u001b[0m\u001b[0;32m     59\u001b[0m                                         inputs, attrs, num_outputs)\n\u001b[0;32m     60\u001b[0m   \u001b[1;32mexcept\u001b[0m \u001b[0mcore\u001b[0m\u001b[1;33m.\u001b[0m\u001b[0m_NotOkStatusException\u001b[0m \u001b[1;32mas\u001b[0m \u001b[0me\u001b[0m\u001b[1;33m:\u001b[0m\u001b[1;33m\u001b[0m\u001b[1;33m\u001b[0m\u001b[0m\n",
      "\u001b[1;31mKeyboardInterrupt\u001b[0m: "
     ]
    }
   ],
   "source": [
    "NN.fit(train_data, epochs = 5, verbose = 1, validation_data = val_data)"
   ]
  },
  {
   "cell_type": "code",
   "execution_count": 27,
   "id": "19981943",
   "metadata": {},
   "outputs": [
    {
     "name": "stdout",
     "output_type": "stream",
     "text": [
      "4/4 [==============================] - 0s 94ms/step - loss: 0.7861 - accuracy: 0.4167\n"
     ]
    },
    {
     "data": {
      "text/plain": [
       "[0.7861334681510925, 0.4166666567325592]"
      ]
     },
     "execution_count": 27,
     "metadata": {},
     "output_type": "execute_result"
    }
   ],
   "source": [
    "NN.evaluate(test_data)"
   ]
  },
  {
   "cell_type": "code",
   "execution_count": 47,
   "id": "ef5ccfdb",
   "metadata": {},
   "outputs": [
    {
     "name": "stdout",
     "output_type": "stream",
     "text": [
      "Epoch 1/5\n",
      "17/17 [==============================] - 27s 2s/step - loss: 0.6957 - accuracy: 0.5679 - val_loss: 0.6961 - val_accuracy: 0.4783\n",
      "Epoch 2/5\n",
      "17/17 [==============================] - 27s 2s/step - loss: 0.6792 - accuracy: 0.5526 - val_loss: 0.6960 - val_accuracy: 0.4522\n",
      "Epoch 3/5\n",
      "17/17 [==============================] - 27s 2s/step - loss: 0.6664 - accuracy: 0.5870 - val_loss: 0.6980 - val_accuracy: 0.4609\n",
      "Epoch 4/5\n",
      "17/17 [==============================] - 27s 2s/step - loss: 0.6554 - accuracy: 0.5755 - val_loss: 0.6992 - val_accuracy: 0.4261\n",
      "Epoch 5/5\n",
      "17/17 [==============================] - 27s 2s/step - loss: 0.6630 - accuracy: 0.5698 - val_loss: 0.6973 - val_accuracy: 0.4522\n",
      "4/4 [==============================] - 1s 150ms/step - loss: 0.6939 - accuracy: 0.4352\n",
      "Epoch 1/6\n",
      "17/17 [==============================] - 27s 2s/step - loss: 0.6412 - accuracy: 0.6214 - val_loss: 0.6991 - val_accuracy: 0.4957\n",
      "Epoch 2/6\n",
      "17/17 [==============================] - 27s 2s/step - loss: 0.6271 - accuracy: 0.6367 - val_loss: 0.7029 - val_accuracy: 0.4261\n",
      "Epoch 3/6\n",
      "17/17 [==============================] - 27s 2s/step - loss: 0.6236 - accuracy: 0.6635 - val_loss: 0.7054 - val_accuracy: 0.5217\n",
      "Epoch 4/6\n",
      "17/17 [==============================] - 27s 2s/step - loss: 0.5966 - accuracy: 0.6998 - val_loss: 0.7330 - val_accuracy: 0.5304\n",
      "Epoch 5/6\n",
      "17/17 [==============================] - 27s 2s/step - loss: 0.6317 - accuracy: 0.6558 - val_loss: 0.7047 - val_accuracy: 0.5304\n",
      "Epoch 6/6\n",
      "17/17 [==============================] - 27s 2s/step - loss: 0.5862 - accuracy: 0.6979 - val_loss: 0.7313 - val_accuracy: 0.4783\n",
      "4/4 [==============================] - 1s 147ms/step - loss: 0.7269 - accuracy: 0.5000\n",
      "Epoch 1/7\n",
      "17/17 [==============================] - 27s 2s/step - loss: 0.5945 - accuracy: 0.6883 - val_loss: 0.7093 - val_accuracy: 0.4957\n",
      "Epoch 2/7\n",
      "17/17 [==============================] - 27s 2s/step - loss: 0.5670 - accuracy: 0.7094 - val_loss: 0.7159 - val_accuracy: 0.4435\n",
      "Epoch 3/7\n",
      "17/17 [==============================] - 27s 2s/step - loss: 0.5539 - accuracy: 0.7075 - val_loss: 0.7086 - val_accuracy: 0.4870\n",
      "Epoch 4/7\n",
      "17/17 [==============================] - 27s 2s/step - loss: 0.5421 - accuracy: 0.7304 - val_loss: 0.7408 - val_accuracy: 0.5391\n",
      "Epoch 5/7\n",
      "17/17 [==============================] - 27s 2s/step - loss: 0.5391 - accuracy: 0.7380 - val_loss: 0.7296 - val_accuracy: 0.4957\n",
      "Epoch 6/7\n",
      "17/17 [==============================] - 27s 2s/step - loss: 0.5373 - accuracy: 0.7285 - val_loss: 0.7790 - val_accuracy: 0.5652\n",
      "Epoch 7/7\n",
      "17/17 [==============================] - 27s 2s/step - loss: 0.5427 - accuracy: 0.7361 - val_loss: 0.8009 - val_accuracy: 0.6000\n",
      "4/4 [==============================] - 1s 149ms/step - loss: 0.7446 - accuracy: 0.5093\n",
      "Epoch 1/8\n",
      "17/17 [==============================] - 27s 2s/step - loss: 0.5193 - accuracy: 0.7572 - val_loss: 0.8387 - val_accuracy: 0.5913\n",
      "Epoch 2/8\n",
      "17/17 [==============================] - 27s 2s/step - loss: 0.5583 - accuracy: 0.7304 - val_loss: 0.7499 - val_accuracy: 0.5043\n",
      "Epoch 3/8\n",
      "17/17 [==============================] - 27s 2s/step - loss: 0.5238 - accuracy: 0.7438 - val_loss: 0.7896 - val_accuracy: 0.5565\n",
      "Epoch 4/8\n",
      "17/17 [==============================] - 27s 2s/step - loss: 0.5142 - accuracy: 0.7591 - val_loss: 0.8831 - val_accuracy: 0.6000\n",
      "Epoch 5/8\n",
      "17/17 [==============================] - 27s 2s/step - loss: 0.5198 - accuracy: 0.7400 - val_loss: 0.7937 - val_accuracy: 0.5304\n",
      "Epoch 6/8\n",
      "17/17 [==============================] - 27s 2s/step - loss: 0.4879 - accuracy: 0.7801 - val_loss: 0.9617 - val_accuracy: 0.5565\n",
      "Epoch 7/8\n",
      "17/17 [==============================] - 27s 2s/step - loss: 0.5212 - accuracy: 0.7304 - val_loss: 0.7497 - val_accuracy: 0.4870\n",
      "Epoch 8/8\n",
      "17/17 [==============================] - 27s 2s/step - loss: 0.5266 - accuracy: 0.7323 - val_loss: 0.8041 - val_accuracy: 0.5217\n",
      "4/4 [==============================] - 1s 150ms/step - loss: 0.7058 - accuracy: 0.5370\n",
      "Epoch 1/9\n",
      "17/17 [==============================] - 27s 2s/step - loss: 0.5347 - accuracy: 0.7304 - val_loss: 0.8040 - val_accuracy: 0.5130\n",
      "Epoch 2/9\n",
      "17/17 [==============================] - 27s 2s/step - loss: 0.5666 - accuracy: 0.7132 - val_loss: 0.7584 - val_accuracy: 0.5217\n",
      "Epoch 3/9\n",
      "17/17 [==============================] - 27s 2s/step - loss: 0.5028 - accuracy: 0.7782 - val_loss: 0.8979 - val_accuracy: 0.5565\n",
      "Epoch 4/9\n",
      "17/17 [==============================] - 27s 2s/step - loss: 0.4810 - accuracy: 0.7763 - val_loss: 0.7956 - val_accuracy: 0.4870\n",
      "Epoch 5/9\n",
      "17/17 [==============================] - 27s 2s/step - loss: 0.5338 - accuracy: 0.7266 - val_loss: 0.8176 - val_accuracy: 0.5565\n",
      "Epoch 6/9\n",
      "17/17 [==============================] - 27s 2s/step - loss: 0.4851 - accuracy: 0.7744 - val_loss: 0.9698 - val_accuracy: 0.5739\n",
      "Epoch 7/9\n",
      "17/17 [==============================] - 27s 2s/step - loss: 0.4683 - accuracy: 0.7801 - val_loss: 0.9764 - val_accuracy: 0.5913\n",
      "Epoch 8/9\n",
      "17/17 [==============================] - 27s 2s/step - loss: 0.5023 - accuracy: 0.7648 - val_loss: 0.8032 - val_accuracy: 0.5217\n",
      "Epoch 9/9\n",
      "17/17 [==============================] - 27s 2s/step - loss: 0.4634 - accuracy: 0.7706 - val_loss: 0.8773 - val_accuracy: 0.5304\n",
      "4/4 [==============================] - 1s 146ms/step - loss: 0.6999 - accuracy: 0.5463\n",
      "Epoch 1/10\n",
      "17/17 [==============================] - 27s 2s/step - loss: 0.4383 - accuracy: 0.7839 - val_loss: 0.9327 - val_accuracy: 0.5565\n",
      "Epoch 2/10\n",
      "17/17 [==============================] - 27s 2s/step - loss: 0.4294 - accuracy: 0.8031 - val_loss: 0.9138 - val_accuracy: 0.5130\n",
      "Epoch 3/10\n",
      "17/17 [==============================] - 27s 2s/step - loss: 0.4338 - accuracy: 0.7992 - val_loss: 1.0084 - val_accuracy: 0.5478\n",
      "Epoch 4/10\n",
      "17/17 [==============================] - 27s 2s/step - loss: 0.4240 - accuracy: 0.8011 - val_loss: 1.0147 - val_accuracy: 0.5304\n",
      "Epoch 5/10\n",
      "17/17 [==============================] - 27s 2s/step - loss: 0.4183 - accuracy: 0.8126 - val_loss: 1.0020 - val_accuracy: 0.5217\n",
      "Epoch 6/10\n",
      "17/17 [==============================] - 27s 2s/step - loss: 0.4424 - accuracy: 0.7820 - val_loss: 1.0531 - val_accuracy: 0.5043\n",
      "Epoch 7/10\n",
      "17/17 [==============================] - 27s 2s/step - loss: 0.4295 - accuracy: 0.8011 - val_loss: 1.0629 - val_accuracy: 0.5478\n",
      "Epoch 8/10\n",
      "17/17 [==============================] - 28s 2s/step - loss: 0.4107 - accuracy: 0.8011 - val_loss: 1.2455 - val_accuracy: 0.5565\n",
      "Epoch 9/10\n",
      "17/17 [==============================] - 27s 2s/step - loss: 0.4272 - accuracy: 0.7954 - val_loss: 1.0545 - val_accuracy: 0.5391\n",
      "Epoch 10/10\n",
      "17/17 [==============================] - 27s 2s/step - loss: 0.4413 - accuracy: 0.7801 - val_loss: 1.0667 - val_accuracy: 0.5043\n",
      "4/4 [==============================] - 1s 148ms/step - loss: 0.7041 - accuracy: 0.5833\n",
      "Epoch 1/11\n",
      "17/17 [==============================] - 27s 2s/step - loss: 0.4094 - accuracy: 0.8088 - val_loss: 1.1430 - val_accuracy: 0.4957\n",
      "Epoch 2/11\n",
      "17/17 [==============================] - 27s 2s/step - loss: 0.3987 - accuracy: 0.8011 - val_loss: 1.0059 - val_accuracy: 0.4522\n",
      "Epoch 3/11\n",
      "17/17 [==============================] - 27s 2s/step - loss: 0.4171 - accuracy: 0.7954 - val_loss: 1.1429 - val_accuracy: 0.5217\n",
      "Epoch 4/11\n",
      "17/17 [==============================] - 27s 2s/step - loss: 0.4094 - accuracy: 0.8069 - val_loss: 1.1387 - val_accuracy: 0.4957\n",
      "Epoch 5/11\n",
      "17/17 [==============================] - 27s 2s/step - loss: 0.3879 - accuracy: 0.8126 - val_loss: 1.2409 - val_accuracy: 0.4957\n",
      "Epoch 6/11\n",
      "17/17 [==============================] - 27s 2s/step - loss: 0.3812 - accuracy: 0.8222 - val_loss: 1.1449 - val_accuracy: 0.4957\n",
      "Epoch 7/11\n",
      "17/17 [==============================] - 27s 2s/step - loss: 0.4008 - accuracy: 0.8317 - val_loss: 1.1254 - val_accuracy: 0.5043\n",
      "Epoch 8/11\n",
      "17/17 [==============================] - 27s 2s/step - loss: 0.3517 - accuracy: 0.8337 - val_loss: 1.4093 - val_accuracy: 0.4696\n",
      "Epoch 9/11\n",
      "17/17 [==============================] - 27s 2s/step - loss: 0.3873 - accuracy: 0.8107 - val_loss: 1.2410 - val_accuracy: 0.5391\n",
      "Epoch 10/11\n",
      "17/17 [==============================] - 27s 2s/step - loss: 0.3725 - accuracy: 0.8279 - val_loss: 1.2083 - val_accuracy: 0.5391\n",
      "Epoch 11/11\n"
     ]
    },
    {
     "name": "stdout",
     "output_type": "stream",
     "text": [
      "17/17 [==============================] - 27s 2s/step - loss: 0.3586 - accuracy: 0.8509 - val_loss: 1.2228 - val_accuracy: 0.5130\n",
      "4/4 [==============================] - 1s 148ms/step - loss: 0.8130 - accuracy: 0.5370\n",
      "Epoch 1/12\n",
      "17/17 [==============================] - 27s 2s/step - loss: 0.3766 - accuracy: 0.8317 - val_loss: 1.2942 - val_accuracy: 0.5217\n",
      "Epoch 2/12\n",
      "17/17 [==============================] - 27s 2s/step - loss: 0.3410 - accuracy: 0.8356 - val_loss: 1.5209 - val_accuracy: 0.5130\n",
      "Epoch 3/12\n",
      "17/17 [==============================] - 27s 2s/step - loss: 0.3468 - accuracy: 0.8317 - val_loss: 1.6674 - val_accuracy: 0.5391\n",
      "Epoch 4/12\n",
      "17/17 [==============================] - 27s 2s/step - loss: 0.3643 - accuracy: 0.8451 - val_loss: 1.5978 - val_accuracy: 0.5304\n",
      "Epoch 5/12\n",
      "17/17 [==============================] - 27s 2s/step - loss: 0.3647 - accuracy: 0.8260 - val_loss: 1.5101 - val_accuracy: 0.4870\n",
      "Epoch 6/12\n",
      "17/17 [==============================] - 27s 2s/step - loss: 0.3313 - accuracy: 0.8566 - val_loss: 1.4410 - val_accuracy: 0.4957\n",
      "Epoch 7/12\n",
      "17/17 [==============================] - 27s 2s/step - loss: 0.3433 - accuracy: 0.8298 - val_loss: 1.3367 - val_accuracy: 0.5217\n",
      "Epoch 8/12\n",
      "17/17 [==============================] - 27s 2s/step - loss: 0.3244 - accuracy: 0.8509 - val_loss: 1.3445 - val_accuracy: 0.4957\n",
      "Epoch 9/12\n",
      "17/17 [==============================] - 27s 2s/step - loss: 0.3474 - accuracy: 0.8279 - val_loss: 1.0803 - val_accuracy: 0.5043\n",
      "Epoch 10/12\n",
      "17/17 [==============================] - 27s 2s/step - loss: 0.3973 - accuracy: 0.8126 - val_loss: 1.1320 - val_accuracy: 0.4870\n",
      "Epoch 11/12\n",
      "17/17 [==============================] - 27s 2s/step - loss: 0.3784 - accuracy: 0.8145 - val_loss: 1.5330 - val_accuracy: 0.4957\n",
      "Epoch 12/12\n",
      "17/17 [==============================] - 28s 2s/step - loss: 0.3275 - accuracy: 0.8489 - val_loss: 1.7901 - val_accuracy: 0.5478\n",
      "4/4 [==============================] - 1s 148ms/step - loss: 1.5477 - accuracy: 0.5463\n",
      "Epoch 1/13\n",
      "17/17 [==============================] - 27s 2s/step - loss: 0.3539 - accuracy: 0.8394 - val_loss: 1.5355 - val_accuracy: 0.5217\n",
      "Epoch 2/13\n",
      "17/17 [==============================] - 27s 2s/step - loss: 0.4158 - accuracy: 0.8088 - val_loss: 1.3681 - val_accuracy: 0.5478\n",
      "Epoch 3/13\n",
      "17/17 [==============================] - 27s 2s/step - loss: 0.3443 - accuracy: 0.8509 - val_loss: 1.4003 - val_accuracy: 0.5217\n",
      "Epoch 4/13\n",
      "17/17 [==============================] - 27s 2s/step - loss: 0.3264 - accuracy: 0.8566 - val_loss: 1.3336 - val_accuracy: 0.4957\n",
      "Epoch 5/13\n",
      "17/17 [==============================] - 27s 2s/step - loss: 0.3326 - accuracy: 0.8528 - val_loss: 1.6349 - val_accuracy: 0.5130\n",
      "Epoch 6/13\n",
      "17/17 [==============================] - 27s 2s/step - loss: 0.3318 - accuracy: 0.8451 - val_loss: 1.3641 - val_accuracy: 0.5565\n",
      "Epoch 7/13\n",
      "17/17 [==============================] - 27s 2s/step - loss: 0.3360 - accuracy: 0.8356 - val_loss: 1.8155 - val_accuracy: 0.5478\n",
      "Epoch 8/13\n",
      "17/17 [==============================] - 27s 2s/step - loss: 0.3678 - accuracy: 0.8069 - val_loss: 1.4045 - val_accuracy: 0.4957\n",
      "Epoch 9/13\n",
      "17/17 [==============================] - 27s 2s/step - loss: 0.3320 - accuracy: 0.8413 - val_loss: 1.3448 - val_accuracy: 0.5217\n",
      "Epoch 10/13\n",
      "17/17 [==============================] - 27s 2s/step - loss: 0.3322 - accuracy: 0.8528 - val_loss: 1.6244 - val_accuracy: 0.5565\n",
      "Epoch 11/13\n",
      "17/17 [==============================] - 27s 2s/step - loss: 0.3024 - accuracy: 0.8509 - val_loss: 1.8436 - val_accuracy: 0.5043\n",
      "Epoch 12/13\n",
      "17/17 [==============================] - 27s 2s/step - loss: 0.3394 - accuracy: 0.8413 - val_loss: 1.6509 - val_accuracy: 0.5391\n",
      "Epoch 13/13\n",
      "17/17 [==============================] - 27s 2s/step - loss: 0.3327 - accuracy: 0.8509 - val_loss: 1.6319 - val_accuracy: 0.4870\n",
      "4/4 [==============================] - 1s 147ms/step - loss: 1.0659 - accuracy: 0.5463\n",
      "Epoch 1/14\n",
      "17/17 [==============================] - 27s 2s/step - loss: 0.3095 - accuracy: 0.8585 - val_loss: 1.5815 - val_accuracy: 0.5217\n",
      "Epoch 2/14\n",
      "17/17 [==============================] - 27s 2s/step - loss: 0.2988 - accuracy: 0.8604 - val_loss: 1.5985 - val_accuracy: 0.4783\n",
      "Epoch 3/14\n",
      "17/17 [==============================] - 28s 2s/step - loss: 0.3116 - accuracy: 0.8642 - val_loss: 2.1028 - val_accuracy: 0.4957\n",
      "Epoch 4/14\n",
      "17/17 [==============================] - 27s 2s/step - loss: 0.3275 - accuracy: 0.8413 - val_loss: 1.7241 - val_accuracy: 0.5043\n",
      "Epoch 5/14\n",
      "17/17 [==============================] - 28s 2s/step - loss: 0.2966 - accuracy: 0.8642 - val_loss: 1.6905 - val_accuracy: 0.4957\n",
      "Epoch 6/14\n",
      "17/17 [==============================] - 27s 2s/step - loss: 0.3400 - accuracy: 0.8241 - val_loss: 2.6149 - val_accuracy: 0.4957\n",
      "Epoch 7/14\n",
      "17/17 [==============================] - 27s 2s/step - loss: 0.3620 - accuracy: 0.8489 - val_loss: 1.3859 - val_accuracy: 0.5304\n",
      "Epoch 8/14\n",
      "17/17 [==============================] - 27s 2s/step - loss: 0.3188 - accuracy: 0.8528 - val_loss: 2.2978 - val_accuracy: 0.5565\n",
      "Epoch 9/14\n",
      "17/17 [==============================] - 28s 2s/step - loss: 0.3020 - accuracy: 0.8795 - val_loss: 1.9244 - val_accuracy: 0.5217\n",
      "Epoch 10/14\n",
      "17/17 [==============================] - 27s 2s/step - loss: 0.3029 - accuracy: 0.8623 - val_loss: 1.6653 - val_accuracy: 0.4870\n",
      "Epoch 11/14\n",
      "17/17 [==============================] - 27s 2s/step - loss: 0.2834 - accuracy: 0.8815 - val_loss: 1.9870 - val_accuracy: 0.5217\n",
      "Epoch 12/14\n",
      "17/17 [==============================] - 27s 2s/step - loss: 0.2653 - accuracy: 0.8834 - val_loss: 1.7315 - val_accuracy: 0.4957\n",
      "Epoch 13/14\n",
      "17/17 [==============================] - 27s 2s/step - loss: 0.2803 - accuracy: 0.8776 - val_loss: 2.1035 - val_accuracy: 0.5130\n",
      "Epoch 14/14\n",
      "17/17 [==============================] - 27s 2s/step - loss: 0.2859 - accuracy: 0.8700 - val_loss: 2.0970 - val_accuracy: 0.5130\n",
      "4/4 [==============================] - 1s 151ms/step - loss: 1.3615 - accuracy: 0.5370\n",
      "Epoch 1/15\n",
      "17/17 [==============================] - 27s 2s/step - loss: 0.2810 - accuracy: 0.8853 - val_loss: 2.1712 - val_accuracy: 0.5043\n",
      "Epoch 2/15\n",
      "17/17 [==============================] - 27s 2s/step - loss: 0.2474 - accuracy: 0.9025 - val_loss: 2.0300 - val_accuracy: 0.5217\n",
      "Epoch 3/15\n",
      "17/17 [==============================] - 27s 2s/step - loss: 0.2944 - accuracy: 0.8432 - val_loss: 2.0379 - val_accuracy: 0.4696\n",
      "Epoch 4/15\n",
      "17/17 [==============================] - 27s 2s/step - loss: 0.2831 - accuracy: 0.8757 - val_loss: 1.7683 - val_accuracy: 0.4783\n",
      "Epoch 5/15\n",
      "17/17 [==============================] - 27s 2s/step - loss: 0.2471 - accuracy: 0.8872 - val_loss: 2.1126 - val_accuracy: 0.5130\n",
      "Epoch 6/15\n",
      "17/17 [==============================] - 27s 2s/step - loss: 0.2453 - accuracy: 0.8853 - val_loss: 2.5147 - val_accuracy: 0.4957\n",
      "Epoch 7/15\n",
      "17/17 [==============================] - 27s 2s/step - loss: 0.2262 - accuracy: 0.9044 - val_loss: 2.3471 - val_accuracy: 0.4696\n",
      "Epoch 8/15\n",
      "17/17 [==============================] - 27s 2s/step - loss: 0.2658 - accuracy: 0.8872 - val_loss: 2.1027 - val_accuracy: 0.5565\n",
      "Epoch 9/15\n",
      "17/17 [==============================] - 27s 2s/step - loss: 0.2913 - accuracy: 0.8719 - val_loss: 2.2822 - val_accuracy: 0.4870\n",
      "Epoch 10/15\n",
      "17/17 [==============================] - 27s 2s/step - loss: 0.2555 - accuracy: 0.8948 - val_loss: 2.1721 - val_accuracy: 0.4609\n",
      "Epoch 11/15\n",
      "17/17 [==============================] - 27s 2s/step - loss: 0.2471 - accuracy: 0.8987 - val_loss: 2.1059 - val_accuracy: 0.4870\n",
      "Epoch 12/15\n",
      "17/17 [==============================] - 27s 2s/step - loss: 0.2340 - accuracy: 0.8795 - val_loss: 2.6521 - val_accuracy: 0.5043\n",
      "Epoch 13/15\n",
      "17/17 [==============================] - 27s 2s/step - loss: 0.2327 - accuracy: 0.8929 - val_loss: 2.2169 - val_accuracy: 0.4522\n",
      "Epoch 14/15\n",
      "17/17 [==============================] - 27s 2s/step - loss: 0.2883 - accuracy: 0.8738 - val_loss: 1.9859 - val_accuracy: 0.5043\n",
      "Epoch 15/15\n",
      "17/17 [==============================] - 27s 2s/step - loss: 0.2959 - accuracy: 0.8528 - val_loss: 1.8666 - val_accuracy: 0.4609\n",
      "4/4 [==============================] - 1s 148ms/step - loss: 1.0664 - accuracy: 0.5648\n",
      "Epoch 1/16\n"
     ]
    },
    {
     "name": "stdout",
     "output_type": "stream",
     "text": [
      "17/17 [==============================] - 27s 2s/step - loss: 0.2547 - accuracy: 0.8776 - val_loss: 2.2715 - val_accuracy: 0.5043\n",
      "Epoch 2/16\n",
      "17/17 [==============================] - 27s 2s/step - loss: 0.2210 - accuracy: 0.9044 - val_loss: 2.1596 - val_accuracy: 0.4783\n",
      "Epoch 3/16\n",
      "17/17 [==============================] - 27s 2s/step - loss: 0.2237 - accuracy: 0.9082 - val_loss: 2.1415 - val_accuracy: 0.4696\n",
      "Epoch 4/16\n",
      "17/17 [==============================] - 27s 2s/step - loss: 0.2594 - accuracy: 0.8795 - val_loss: 1.7290 - val_accuracy: 0.5130\n",
      "Epoch 5/16\n",
      "17/17 [==============================] - 27s 2s/step - loss: 0.2544 - accuracy: 0.8795 - val_loss: 2.0823 - val_accuracy: 0.5478\n",
      "Epoch 6/16\n",
      "17/17 [==============================] - 27s 2s/step - loss: 0.2682 - accuracy: 0.8757 - val_loss: 2.1580 - val_accuracy: 0.4957\n",
      "Epoch 7/16\n",
      "17/17 [==============================] - 27s 2s/step - loss: 0.2463 - accuracy: 0.8948 - val_loss: 2.5900 - val_accuracy: 0.5565\n",
      "Epoch 8/16\n",
      "17/17 [==============================] - 27s 2s/step - loss: 0.2923 - accuracy: 0.8776 - val_loss: 2.6380 - val_accuracy: 0.5043\n",
      "Epoch 9/16\n",
      "17/17 [==============================] - 27s 2s/step - loss: 0.2559 - accuracy: 0.8853 - val_loss: 2.3395 - val_accuracy: 0.4522\n",
      "Epoch 10/16\n",
      "17/17 [==============================] - 27s 2s/step - loss: 0.2785 - accuracy: 0.8776 - val_loss: 1.7771 - val_accuracy: 0.4870\n",
      "Epoch 11/16\n",
      "17/17 [==============================] - 27s 2s/step - loss: 0.1986 - accuracy: 0.9140 - val_loss: 3.0488 - val_accuracy: 0.5478\n",
      "Epoch 12/16\n",
      "17/17 [==============================] - 27s 2s/step - loss: 0.2514 - accuracy: 0.8853 - val_loss: 2.3705 - val_accuracy: 0.5217\n",
      "Epoch 13/16\n",
      "17/17 [==============================] - 27s 2s/step - loss: 0.2228 - accuracy: 0.9025 - val_loss: 2.5933 - val_accuracy: 0.4870\n",
      "Epoch 14/16\n",
      "17/17 [==============================] - 27s 2s/step - loss: 0.2219 - accuracy: 0.9044 - val_loss: 2.5024 - val_accuracy: 0.5391\n",
      "Epoch 15/16\n",
      "17/17 [==============================] - 27s 2s/step - loss: 0.2727 - accuracy: 0.8719 - val_loss: 2.4469 - val_accuracy: 0.4957\n",
      "Epoch 16/16\n",
      "17/17 [==============================] - 27s 2s/step - loss: 0.2269 - accuracy: 0.8987 - val_loss: 2.3702 - val_accuracy: 0.5130\n",
      "4/4 [==============================] - 1s 147ms/step - loss: 1.4186 - accuracy: 0.5278\n",
      "Epoch 1/17\n",
      "17/17 [==============================] - 27s 2s/step - loss: 0.1976 - accuracy: 0.9082 - val_loss: 2.7897 - val_accuracy: 0.4609\n",
      "Epoch 2/17\n",
      "17/17 [==============================] - 27s 2s/step - loss: 0.1921 - accuracy: 0.9254 - val_loss: 2.9376 - val_accuracy: 0.5217\n",
      "Epoch 3/17\n",
      "17/17 [==============================] - 27s 2s/step - loss: 0.2579 - accuracy: 0.8719 - val_loss: 2.1297 - val_accuracy: 0.5391\n",
      "Epoch 4/17\n",
      "17/17 [==============================] - 27s 2s/step - loss: 0.2087 - accuracy: 0.9063 - val_loss: 2.9832 - val_accuracy: 0.5304\n",
      "Epoch 5/17\n",
      "17/17 [==============================] - 27s 2s/step - loss: 0.2087 - accuracy: 0.9063 - val_loss: 2.6051 - val_accuracy: 0.4957\n",
      "Epoch 6/17\n",
      "17/17 [==============================] - 27s 2s/step - loss: 0.1821 - accuracy: 0.9331 - val_loss: 2.5952 - val_accuracy: 0.4696\n",
      "Epoch 7/17\n",
      "17/17 [==============================] - 27s 2s/step - loss: 0.2332 - accuracy: 0.9025 - val_loss: 2.9936 - val_accuracy: 0.4870\n",
      "Epoch 8/17\n",
      "17/17 [==============================] - 27s 2s/step - loss: 0.2213 - accuracy: 0.9006 - val_loss: 2.6780 - val_accuracy: 0.5217\n",
      "Epoch 9/17\n",
      "17/17 [==============================] - 27s 2s/step - loss: 0.2158 - accuracy: 0.9006 - val_loss: 2.1169 - val_accuracy: 0.5217\n",
      "Epoch 10/17\n",
      "17/17 [==============================] - 27s 2s/step - loss: 0.2153 - accuracy: 0.9140 - val_loss: 2.3188 - val_accuracy: 0.4696\n",
      "Epoch 11/17\n",
      "17/17 [==============================] - 27s 2s/step - loss: 0.2824 - accuracy: 0.8757 - val_loss: 2.5790 - val_accuracy: 0.4870\n",
      "Epoch 12/17\n",
      "17/17 [==============================] - 27s 2s/step - loss: 0.3389 - accuracy: 0.8432 - val_loss: 1.7354 - val_accuracy: 0.5043\n",
      "Epoch 13/17\n",
      "17/17 [==============================] - 27s 2s/step - loss: 0.2106 - accuracy: 0.9216 - val_loss: 2.1411 - val_accuracy: 0.4609\n",
      "Epoch 14/17\n",
      "17/17 [==============================] - 27s 2s/step - loss: 0.1736 - accuracy: 0.9216 - val_loss: 3.4775 - val_accuracy: 0.5391\n",
      "Epoch 15/17\n",
      "17/17 [==============================] - 27s 2s/step - loss: 0.2250 - accuracy: 0.9063 - val_loss: 2.1823 - val_accuracy: 0.4870\n",
      "Epoch 16/17\n",
      "17/17 [==============================] - 27s 2s/step - loss: 0.1911 - accuracy: 0.9101 - val_loss: 2.7380 - val_accuracy: 0.5130\n",
      "Epoch 17/17\n",
      "17/17 [==============================] - 27s 2s/step - loss: 0.1823 - accuracy: 0.9293 - val_loss: 2.8402 - val_accuracy: 0.5304\n",
      "4/4 [==============================] - 1s 147ms/step - loss: 1.7614 - accuracy: 0.5185\n",
      "Epoch 1/18\n",
      "17/17 [==============================] - 27s 2s/step - loss: 0.2083 - accuracy: 0.9044 - val_loss: 2.7038 - val_accuracy: 0.5304\n",
      "Epoch 2/18\n",
      "17/17 [==============================] - 27s 2s/step - loss: 0.1581 - accuracy: 0.9312 - val_loss: 2.9411 - val_accuracy: 0.5304\n",
      "Epoch 3/18\n",
      "17/17 [==============================] - 27s 2s/step - loss: 0.1563 - accuracy: 0.9350 - val_loss: 3.3134 - val_accuracy: 0.5478\n",
      "Epoch 4/18\n",
      "17/17 [==============================] - 27s 2s/step - loss: 0.1466 - accuracy: 0.9369 - val_loss: 3.1595 - val_accuracy: 0.5130\n",
      "Epoch 5/18\n",
      "17/17 [==============================] - 27s 2s/step - loss: 0.1638 - accuracy: 0.9331 - val_loss: 2.9992 - val_accuracy: 0.5043\n",
      "Epoch 6/18\n",
      "17/17 [==============================] - 27s 2s/step - loss: 0.2098 - accuracy: 0.9101 - val_loss: 2.1969 - val_accuracy: 0.5130\n",
      "Epoch 7/18\n",
      "17/17 [==============================] - 27s 2s/step - loss: 0.1960 - accuracy: 0.9044 - val_loss: 2.5818 - val_accuracy: 0.4522\n",
      "Epoch 8/18\n",
      "17/17 [==============================] - 27s 2s/step - loss: 0.1745 - accuracy: 0.9254 - val_loss: 3.0208 - val_accuracy: 0.5217\n",
      "Epoch 9/18\n",
      "17/17 [==============================] - 27s 2s/step - loss: 0.1374 - accuracy: 0.9407 - val_loss: 2.9804 - val_accuracy: 0.5304\n",
      "Epoch 10/18\n",
      "17/17 [==============================] - 27s 2s/step - loss: 0.2274 - accuracy: 0.9082 - val_loss: 3.1681 - val_accuracy: 0.5304\n",
      "Epoch 11/18\n",
      "17/17 [==============================] - 27s 2s/step - loss: 0.1883 - accuracy: 0.9216 - val_loss: 2.6758 - val_accuracy: 0.5043\n",
      "Epoch 12/18\n",
      "17/17 [==============================] - 27s 2s/step - loss: 0.1644 - accuracy: 0.9178 - val_loss: 2.6287 - val_accuracy: 0.5652\n",
      "Epoch 13/18\n",
      "17/17 [==============================] - 27s 2s/step - loss: 0.1698 - accuracy: 0.9369 - val_loss: 3.0838 - val_accuracy: 0.5391\n",
      "Epoch 14/18\n",
      "17/17 [==============================] - 27s 2s/step - loss: 0.2143 - accuracy: 0.9120 - val_loss: 3.2921 - val_accuracy: 0.5739\n",
      "Epoch 15/18\n",
      "17/17 [==============================] - 27s 2s/step - loss: 0.2420 - accuracy: 0.8872 - val_loss: 2.8781 - val_accuracy: 0.4522\n",
      "Epoch 16/18\n",
      "17/17 [==============================] - 27s 2s/step - loss: 0.2097 - accuracy: 0.9140 - val_loss: 2.2088 - val_accuracy: 0.5043\n",
      "Epoch 17/18\n",
      "17/17 [==============================] - 27s 2s/step - loss: 0.1688 - accuracy: 0.9388 - val_loss: 2.7792 - val_accuracy: 0.5391\n",
      "Epoch 18/18\n",
      "17/17 [==============================] - 27s 2s/step - loss: 0.1330 - accuracy: 0.9369 - val_loss: 4.0734 - val_accuracy: 0.5217\n",
      "4/4 [==============================] - 1s 148ms/step - loss: 1.7980 - accuracy: 0.5741\n",
      "Epoch 1/19\n",
      "17/17 [==============================] - 27s 2s/step - loss: 0.1890 - accuracy: 0.9254 - val_loss: 3.2945 - val_accuracy: 0.5391\n",
      "Epoch 2/19\n",
      "17/17 [==============================] - 27s 2s/step - loss: 0.1653 - accuracy: 0.9178 - val_loss: 3.3156 - val_accuracy: 0.5478\n",
      "Epoch 3/19\n",
      "17/17 [==============================] - 27s 2s/step - loss: 0.1550 - accuracy: 0.9407 - val_loss: 3.7679 - val_accuracy: 0.5391\n",
      "Epoch 4/19\n",
      "17/17 [==============================] - 27s 2s/step - loss: 0.2133 - accuracy: 0.9159 - val_loss: 2.1717 - val_accuracy: 0.5217\n",
      "Epoch 5/19\n",
      "17/17 [==============================] - 27s 2s/step - loss: 0.1745 - accuracy: 0.9235 - val_loss: 2.6506 - val_accuracy: 0.5043\n",
      "Epoch 6/19\n"
     ]
    },
    {
     "name": "stdout",
     "output_type": "stream",
     "text": [
      "17/17 [==============================] - 27s 2s/step - loss: 0.1610 - accuracy: 0.9235 - val_loss: 3.6561 - val_accuracy: 0.4957\n",
      "Epoch 7/19\n",
      "17/17 [==============================] - 27s 2s/step - loss: 0.1353 - accuracy: 0.9407 - val_loss: 4.1008 - val_accuracy: 0.5565\n",
      "Epoch 8/19\n",
      "17/17 [==============================] - 27s 2s/step - loss: 0.3189 - accuracy: 0.8451 - val_loss: 2.4126 - val_accuracy: 0.5217\n",
      "Epoch 9/19\n",
      "17/17 [==============================] - 28s 2s/step - loss: 0.2816 - accuracy: 0.8834 - val_loss: 2.4053 - val_accuracy: 0.5217\n",
      "Epoch 10/19\n",
      "17/17 [==============================] - 27s 2s/step - loss: 0.2014 - accuracy: 0.9140 - val_loss: 2.7321 - val_accuracy: 0.5304\n",
      "Epoch 11/19\n",
      "17/17 [==============================] - 27s 2s/step - loss: 0.1709 - accuracy: 0.9235 - val_loss: 2.8734 - val_accuracy: 0.5217\n",
      "Epoch 12/19\n",
      "17/17 [==============================] - 28s 2s/step - loss: 0.1464 - accuracy: 0.9369 - val_loss: 3.6604 - val_accuracy: 0.5304\n",
      "Epoch 13/19\n",
      "17/17 [==============================] - 27s 2s/step - loss: 0.1388 - accuracy: 0.9312 - val_loss: 3.2297 - val_accuracy: 0.5304\n",
      "Epoch 14/19\n",
      "17/17 [==============================] - 28s 2s/step - loss: 0.1540 - accuracy: 0.9369 - val_loss: 3.8060 - val_accuracy: 0.5130\n",
      "Epoch 15/19\n",
      "17/17 [==============================] - 27s 2s/step - loss: 0.1617 - accuracy: 0.9216 - val_loss: 3.1929 - val_accuracy: 0.5043\n",
      "Epoch 16/19\n",
      "17/17 [==============================] - 27s 2s/step - loss: 0.1320 - accuracy: 0.9407 - val_loss: 4.0040 - val_accuracy: 0.5304\n",
      "Epoch 17/19\n",
      "17/17 [==============================] - 27s 2s/step - loss: 0.3119 - accuracy: 0.8795 - val_loss: 2.3997 - val_accuracy: 0.4870\n",
      "Epoch 18/19\n",
      "17/17 [==============================] - 27s 2s/step - loss: 0.3391 - accuracy: 0.8528 - val_loss: 2.1000 - val_accuracy: 0.4783\n",
      "Epoch 19/19\n",
      "17/17 [==============================] - 27s 2s/step - loss: 0.3125 - accuracy: 0.8528 - val_loss: 2.4954 - val_accuracy: 0.5217\n",
      "4/4 [==============================] - 1s 145ms/step - loss: 1.3972 - accuracy: 0.5648\n",
      "Epoch 1/20\n",
      "17/17 [==============================] - 27s 2s/step - loss: 0.1898 - accuracy: 0.9235 - val_loss: 2.9557 - val_accuracy: 0.5478\n",
      "Epoch 2/20\n",
      "17/17 [==============================] - 27s 2s/step - loss: 0.1455 - accuracy: 0.9369 - val_loss: 3.1049 - val_accuracy: 0.5391\n",
      "Epoch 3/20\n",
      "17/17 [==============================] - 27s 2s/step - loss: 0.1485 - accuracy: 0.9293 - val_loss: 2.9910 - val_accuracy: 0.5478\n",
      "Epoch 4/20\n",
      "17/17 [==============================] - 27s 2s/step - loss: 0.1143 - accuracy: 0.9637 - val_loss: 3.5774 - val_accuracy: 0.5565\n",
      "Epoch 5/20\n",
      "17/17 [==============================] - 27s 2s/step - loss: 0.1813 - accuracy: 0.9254 - val_loss: 2.8002 - val_accuracy: 0.5217\n",
      "Epoch 6/20\n",
      "17/17 [==============================] - 27s 2s/step - loss: 0.1713 - accuracy: 0.9350 - val_loss: 3.3016 - val_accuracy: 0.5130\n",
      "Epoch 7/20\n",
      "17/17 [==============================] - 27s 2s/step - loss: 0.1287 - accuracy: 0.9465 - val_loss: 3.1927 - val_accuracy: 0.5391\n",
      "Epoch 8/20\n",
      "17/17 [==============================] - 27s 2s/step - loss: 0.1342 - accuracy: 0.9426 - val_loss: 3.2189 - val_accuracy: 0.5304\n",
      "Epoch 9/20\n",
      "17/17 [==============================] - 27s 2s/step - loss: 0.1109 - accuracy: 0.9618 - val_loss: 4.3099 - val_accuracy: 0.5304\n",
      "Epoch 10/20\n",
      "17/17 [==============================] - 27s 2s/step - loss: 0.1631 - accuracy: 0.9350 - val_loss: 3.8037 - val_accuracy: 0.5304\n",
      "Epoch 11/20\n",
      "17/17 [==============================] - 27s 2s/step - loss: 0.1047 - accuracy: 0.9522 - val_loss: 3.8682 - val_accuracy: 0.5391\n",
      "Epoch 12/20\n",
      "17/17 [==============================] - 27s 2s/step - loss: 0.1138 - accuracy: 0.9618 - val_loss: 4.2539 - val_accuracy: 0.5391\n",
      "Epoch 13/20\n",
      "17/17 [==============================] - 27s 2s/step - loss: 0.1229 - accuracy: 0.9560 - val_loss: 4.5889 - val_accuracy: 0.5217\n",
      "Epoch 14/20\n",
      "17/17 [==============================] - 27s 2s/step - loss: 0.3061 - accuracy: 0.8662 - val_loss: 2.4913 - val_accuracy: 0.5217\n",
      "Epoch 15/20\n",
      "17/17 [==============================] - 27s 2s/step - loss: 0.1985 - accuracy: 0.9216 - val_loss: 2.8924 - val_accuracy: 0.5391\n",
      "Epoch 16/20\n",
      "17/17 [==============================] - 27s 2s/step - loss: 0.1387 - accuracy: 0.9369 - val_loss: 3.1740 - val_accuracy: 0.5565\n",
      "Epoch 17/20\n",
      "17/17 [==============================] - 27s 2s/step - loss: 0.1121 - accuracy: 0.9560 - val_loss: 4.1475 - val_accuracy: 0.5217\n",
      "Epoch 18/20\n",
      "17/17 [==============================] - 27s 2s/step - loss: 0.1662 - accuracy: 0.9293 - val_loss: 4.1493 - val_accuracy: 0.5304\n",
      "Epoch 19/20\n",
      "17/17 [==============================] - 27s 2s/step - loss: 0.1483 - accuracy: 0.9273 - val_loss: 3.9795 - val_accuracy: 0.5565\n",
      "Epoch 20/20\n",
      "17/17 [==============================] - 27s 2s/step - loss: 0.1239 - accuracy: 0.9484 - val_loss: 4.1134 - val_accuracy: 0.5565\n",
      "4/4 [==============================] - 1s 148ms/step - loss: 2.4285 - accuracy: 0.5463\n"
     ]
    }
   ],
   "source": [
    "epoch_dict = {}\n",
    "epochs = range(5, 21)\n",
    "for epoch in epochs:\n",
    "    NN.fit(train_data, epochs = epoch, verbose = 1, validation_data = val_data)\n",
    "    epoch_dict[epoch] = NN.evaluate(test_data)[1]"
   ]
  },
  {
   "cell_type": "code",
   "execution_count": 48,
   "id": "1024ffd1",
   "metadata": {
    "scrolled": true
   },
   "outputs": [
    {
     "data": {
      "text/plain": [
       "[<matplotlib.lines.Line2D at 0x1481498afa0>]"
      ]
     },
     "execution_count": 48,
     "metadata": {},
     "output_type": "execute_result"
    },
    {
     "data": {
      "image/png": "[encoded data removed]",
      "text/plain": [
       "<Figure size 432x288 with 1 Axes>"
      ]
     },
     "metadata": {
      "needs_background": "light"
     },
     "output_type": "display_data"
    }
   ],
   "source": [
    "plt.plot(list(epoch_dict.keys()),list(epoch_dict.values()))"
   ]
  },
  {
   "cell_type": "code",
   "execution_count": null,
   "id": "e1b03803",
   "metadata": {},
   "outputs": [],
   "source": []
  },
  {
   "cell_type": "code",
   "execution_count": null,
   "id": "f53da47e",
   "metadata": {},
   "outputs": [],
   "source": []
  }
 ],
 "metadata": {
  "kernelspec": {
   "display_name": "Python 3",
   "language": "python",
   "name": "python3"
  },
  "language_info": {
   "codemirror_mode": {
    "name": "ipython",
    "version": 3
   },
   "file_extension": ".py",
   "mimetype": "text/x-python",
   "name": "python",
   "nbconvert_exporter": "python",
   "pygments_lexer": "ipython3",
   "version": "3.8.8"
  }
 },
 "nbformat": 4,
 "nbformat_minor": 5
}
